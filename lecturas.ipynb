{
 "cells": [
  {
   "cell_type": "code",
   "execution_count": 1,
   "metadata": {},
   "outputs": [],
   "source": [
    "import pandas as pd"
   ]
  },
  {
   "cell_type": "markdown",
   "metadata": {},
   "source": [
    "Bussiness"
   ]
  },
  {
   "cell_type": "code",
   "execution_count": 3,
   "metadata": {},
   "outputs": [
    {
     "name": "stdout",
     "output_type": "stream",
     "text": [
      "<class 'pandas.core.frame.DataFrame'>\n",
      "Index: 44594 entries, 3 to 150339\n",
      "Data columns (total 10 columns):\n",
      " #   Column        Non-Null Count  Dtype  \n",
      "---  ------        --------------  -----  \n",
      " 0   business_id   44594 non-null  object \n",
      " 1   name          44594 non-null  object \n",
      " 2   state         44594 non-null  object \n",
      " 3   latitude      44594 non-null  float64\n",
      " 4   longitude     44594 non-null  float64\n",
      " 5   stars         44594 non-null  float64\n",
      " 6   review_count  44594 non-null  int64  \n",
      " 7   is_open       44594 non-null  int64  \n",
      " 8   attributes    43888 non-null  object \n",
      " 9   categories    44594 non-null  object \n",
      "dtypes: float64(3), int64(2), object(5)\n",
      "memory usage: 3.7+ MB\n"
     ]
    }
   ],
   "source": [
    "df_business = pd.read_parquet('C:\\\\Users\\\\User\\\\OneDrive\\\\Escritorio\\\\Solo lecturas\\\\bussiness.parquet')\n",
    "\n",
    "df_business.info()"
   ]
  },
  {
   "cell_type": "markdown",
   "metadata": {},
   "source": [
    "is_open eliminarlo"
   ]
  },
  {
   "cell_type": "code",
   "execution_count": 8,
   "metadata": {},
   "outputs": [],
   "source": [
    "df_business = df_business.drop(columns=['is_open'])"
   ]
  },
  {
   "cell_type": "code",
   "execution_count": null,
   "metadata": {},
   "outputs": [],
   "source": [
    "df_business"
   ]
  },
  {
   "cell_type": "markdown",
   "metadata": {},
   "source": [
    "Checkin"
   ]
  },
  {
   "cell_type": "code",
   "execution_count": 5,
   "metadata": {},
   "outputs": [
    {
     "name": "stdout",
     "output_type": "stream",
     "text": [
      "<class 'pandas.core.frame.DataFrame'>\n",
      "RangeIndex: 131930 entries, 0 to 131929\n",
      "Data columns (total 2 columns):\n",
      " #   Column       Non-Null Count   Dtype \n",
      "---  ------       --------------   ----- \n",
      " 0   business_id  131930 non-null  object\n",
      " 1   date         131930 non-null  object\n",
      "dtypes: object(2)\n",
      "memory usage: 2.0+ MB\n"
     ]
    }
   ],
   "source": [
    "df_checkin = pd.read_parquet('C:\\\\Users\\\\User\\\\OneDrive\\\\Escritorio\\\\Solo lecturas\\\\checkin.parquet')\n",
    "\n",
    "df_checkin.info()"
   ]
  },
  {
   "cell_type": "markdown",
   "metadata": {},
   "source": [
    "Metadatos"
   ]
  },
  {
   "cell_type": "code",
   "execution_count": 6,
   "metadata": {},
   "outputs": [
    {
     "name": "stdout",
     "output_type": "stream",
     "text": [
      "<class 'pandas.core.frame.DataFrame'>\n",
      "Index: 48180 entries, 68 to 3024976\n",
      "Data columns (total 12 columns):\n",
      " #   Column          Non-Null Count  Dtype  \n",
      "---  ------          --------------  -----  \n",
      " 0   name            48180 non-null  object \n",
      " 1   address         48180 non-null  object \n",
      " 2   gmap_id         48180 non-null  object \n",
      " 3   description     16189 non-null  object \n",
      " 4   latitude        48180 non-null  float64\n",
      " 5   longitude       48180 non-null  float64\n",
      " 6   category        48180 non-null  object \n",
      " 7   avg_rating      48180 non-null  float64\n",
      " 8   num_of_reviews  48180 non-null  int64  \n",
      " 9   price           24218 non-null  object \n",
      " 10  MISC            47888 non-null  object \n",
      " 11  state           48180 non-null  object \n",
      "dtypes: float64(3), int64(1), object(8)\n",
      "memory usage: 4.8+ MB\n"
     ]
    }
   ],
   "source": [
    "df_metadatos = pd.read_parquet('C:\\\\Users\\\\User\\\\OneDrive\\\\Escritorio\\\\Solo lecturas\\\\metadatos2.parquet')\n",
    "\n",
    "df_metadatos.info()"
   ]
  },
  {
   "cell_type": "code",
   "execution_count": 7,
   "metadata": {},
   "outputs": [
    {
     "name": "stdout",
     "output_type": "stream",
     "text": [
      "<class 'pandas.core.frame.DataFrame'>\n",
      "Index: 908848 entries, 0 to 908914\n",
      "Data columns (total 5 columns):\n",
      " #   Column            Non-Null Count   Dtype         \n",
      "---  ------            --------------   -----         \n",
      " 0   user_id           908848 non-null  object        \n",
      " 1   business_id       908848 non-null  object        \n",
      " 2   text              908848 non-null  object        \n",
      " 3   date              908848 non-null  datetime64[ns]\n",
      " 4   compliment_count  908848 non-null  int64         \n",
      "dtypes: datetime64[ns](1), int64(1), object(3)\n",
      "memory usage: 41.6+ MB\n"
     ]
    }
   ],
   "source": [
    "df_tip = pd.read_parquet('C:\\\\Users\\\\User\\\\OneDrive\\\\Escritorio\\\\Solo lecturas\\\\tip.parquet')\n",
    "\n",
    "df_tip.info()"
   ]
  }
 ],
 "metadata": {
  "kernelspec": {
   "display_name": "Python 3",
   "language": "python",
   "name": "python3"
  },
  "language_info": {
   "codemirror_mode": {
    "name": "ipython",
    "version": 3
   },
   "file_extension": ".py",
   "mimetype": "text/x-python",
   "name": "python",
   "nbconvert_exporter": "python",
   "pygments_lexer": "ipython3",
   "version": "3.12.7"
  }
 },
 "nbformat": 4,
 "nbformat_minor": 2
}
